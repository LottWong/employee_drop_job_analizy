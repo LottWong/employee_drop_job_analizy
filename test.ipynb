{
 "cells": [
  {
   "cell_type": "code",
   "execution_count": 13,
   "metadata": {},
   "outputs": [],
   "source": [
    "import os\n",
    "import sys\n",
    "import json\n",
    "import pandas\n",
    "import numpy\n",
    "from sklearn import linear_model\n",
    "from sklearn import model_selection\n",
    "from sklearn import metrics\n",
    "from sklearn.model_selection import cross_val_score\n"
   ]
  },
  {
   "cell_type": "code",
   "execution_count": 14,
   "metadata": {
    "scrolled": true
   },
   "outputs": [],
   "source": [
    "data = pandas.read_table(filepath_or_buffer=\"./pfm_train.csv\", sep=\",\")\n"
   ]
  },
  {
   "cell_type": "code",
   "execution_count": 15,
   "metadata": {},
   "outputs": [],
   "source": [
    "data.loc[data[\"BusinessTravel\"] == \"Travel_Rarely\", \"BusinessTravel\"] = 0\n",
    "data.loc[data[\"BusinessTravel\"] == \"Travel_Frequently\", \"BusinessTravel\"] = 2\n",
    "data.loc[data[\"BusinessTravel\"] == \"Non-Travel\", \"BusinessTravel\"] = 1\n",
    "\n",
    "data.loc[data[\"Department\"] == \"Research & Development\", \"Department\"] = 2\n",
    "data.loc[data[\"Department\"] == \"Sales\", \"Department\"] = 1\n",
    "data.loc[data[\"Department\"] == \"Human Resources\", \"Department\"] = 0\n",
    "\n",
    "data.loc[data[\"EducationField\"] == \"Life Sciences\", \"EducationField\"] = 0\n",
    "data.loc[data[\"EducationField\"] == \"Medical\", \"EducationField\"] = 1\n",
    "data.loc[data[\"EducationField\"] == \"Other\", \"EducationField\"] = 2\n",
    "data.loc[data[\"EducationField\"] == \"Technical Degree\", \"EducationField\"] = 3\n",
    "data.loc[data[\"EducationField\"] == \"Human Resources\", \"EducationField\"] = 4\n",
    "data.loc[data[\"EducationField\"] == \"Marketing\", \"EducationField\"] = 5\n",
    "\n",
    "data.loc[data[\"JobRole\"] == \"Manufacturing Director\", \"JobRole\"] = 0\n",
    "data.loc[data[\"JobRole\"] == \"Laboratory Technician\", \"JobRole\"] = 1\n",
    "data.loc[data[\"JobRole\"] == \"Sales Executive\", \"JobRole\"] = 2\n",
    "data.loc[data[\"JobRole\"] == \"Research Scientist\", \"JobRole\"] = 3\n",
    "data.loc[data[\"JobRole\"] == \"Healthcare Representative\", \"JobRole\"] = 4\n",
    "data.loc[data[\"JobRole\"] == \"Human Resources\", \"JobRole\"] = 5\n",
    "data.loc[data[\"JobRole\"] == \"Sales Representative\", \"JobRole\"] = 6\n",
    "data.loc[data[\"JobRole\"] == \"Research Director\", \"JobRole\"] = 7\n",
    "data.loc[data[\"JobRole\"] == \"Manager\", \"JobRole\"] = 8\n",
    "\n",
    "data.loc[data[\"Gender\"] == \"Female\", \"Gender\"] = 1\n",
    "data.loc[data[\"Gender\"] == \"Male\", \"Gender\"] = 0\n",
    "\n",
    "data.loc[data[\"MaritalStatus\"] == \"Divorced\", \"MaritalStatus\"] = 0\n",
    "data.loc[data[\"MaritalStatus\"] == \"Single\", \"MaritalStatus\"] = 1\n",
    "data.loc[data[\"MaritalStatus\"] == \"Married\", \"MaritalStatus\"] = 2\n",
    "\n",
    "data.loc[data[\"Over18\"] == \"Y\", \"Over18\"] = 1\n",
    "data.loc[data[\"Over18\"] == \"N\", \"Over18\"] = 0\n",
    "\n",
    "data.loc[data[\"OverTime\"] == \"Yes\", \"OverTime\"] = 1\n",
    "data.loc[data[\"OverTime\"] == \"No\", \"OverTime\"] = 0"
   ]
  },
  {
   "cell_type": "code",
   "execution_count": 16,
   "metadata": {},
   "outputs": [
    {
     "data": {
      "text/plain": [
       "0    922\n",
       "1    178\n",
       "Name: Attrition, dtype: int64"
      ]
     },
     "execution_count": 16,
     "metadata": {},
     "output_type": "execute_result"
    }
   ],
   "source": [
    "y = data.Attrition\n",
    "X = data.drop([\"Attrition\"], axis=1)\n",
    "X_train, X_test, y_train, y_test = model_selection.train_test_split(X, y, test_size=0.2,random_state = 36)\n",
    "pandas.Series(data[\"Attrition\"]).value_counts()"
   ]
  },
  {
   "cell_type": "code",
   "execution_count": 17,
   "metadata": {},
   "outputs": [],
   "source": [
    "# train,test = model_selection.train_test_split(data, test_size=0.2,random_state = 123)\n",
    "# df1 = train[train[\"Attrition\"]==1].sample(frac=0.8)\n",
    "# df2 = train[train[\"Attrition\"]==0].sample(frac=0.1)\n",
    "# df1_2 = train[train[\"Attrition\"]==1].sample(frac=0.8)\n",
    "# df2_3 = train[train[\"Attrition\"]==0].sample(frac=0.2)\n",
    "# data=pandas.concat([df1,df2,df1_2,df2_3])\n",
    "# y = data.Attrition\n",
    "# X = data.drop([\"Attrition\"], axis=1)\n",
    "# X_train, X_test, y_train, y_test = model_selection.train_test_split(X, y, test_size=0.2,random_state = 123)\n",
    "# y_test = test.Attrition\n",
    "# X_test = test.drop([\"Attrition\"], axis=1)\n",
    "# pandas.Series(data[\"Attrition\"]).value_counts()"
   ]
  },
  {
   "cell_type": "code",
   "execution_count": null,
   "metadata": {},
   "outputs": [],
   "source": []
  },
  {
   "cell_type": "code",
   "execution_count": 18,
   "metadata": {},
   "outputs": [
    {
     "name": "stdout",
     "output_type": "stream",
     "text": [
      "准确率: 0.9227272727272727\n",
      "正例覆盖率： 0.5357142857142857\n",
      "负例覆盖率： 0.9791666666666666\n"
     ]
    }
   ],
   "source": [
    "model = linear_model.LogisticRegression(solver=\"liblinear\", penalty=\"l1\", C=10, max_iter=10000)\n",
    "a = model.fit(X_train, y_train)\n",
    "pred = model.predict(X=X_test)\n",
    "# print(pandas.Series(pred).value_counts())\n",
    "score = metrics.accuracy_score(y_test, pred)\n",
    "score_true = metrics.recall_score(y_test, pred)\n",
    "score_false = metrics.recall_score(y_test, pred, pos_label=0)\n",
    "print(\"准确率:\", score)\n",
    "print(\"正例覆盖率：\", score_true)\n",
    "print(\"负例覆盖率：\", score_false)"
   ]
  },
  {
   "cell_type": "code",
   "execution_count": null,
   "metadata": {},
   "outputs": [],
   "source": []
  },
  {
   "cell_type": "code",
   "execution_count": null,
   "metadata": {},
   "outputs": [],
   "source": []
  },
  {
   "cell_type": "code",
   "execution_count": null,
   "metadata": {},
   "outputs": [],
   "source": []
  },
  {
   "cell_type": "code",
   "execution_count": null,
   "metadata": {},
   "outputs": [],
   "source": []
  }
 ],
 "metadata": {
  "kernelspec": {
   "display_name": "Python 3",
   "language": "python",
   "name": "python3"
  },
  "language_info": {
   "codemirror_mode": {
    "name": "ipython",
    "version": 3
   },
   "file_extension": ".py",
   "mimetype": "text/x-python",
   "name": "python",
   "nbconvert_exporter": "python",
   "pygments_lexer": "ipython3",
   "version": "3.7.0"
  }
 },
 "nbformat": 4,
 "nbformat_minor": 4
}
